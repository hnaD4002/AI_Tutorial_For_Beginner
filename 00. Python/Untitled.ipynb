{
 "cells": [
  {
   "cell_type": "code",
   "execution_count": null,
   "id": "05a97aae-f55f-46cc-8a84-69ac3298b4a1",
   "metadata": {},
   "outputs": [],
   "source": []
  }
 ],
 "metadata": {
  "kernelspec": {
   "display_name": "",
   "name": ""
  },
  "language_info": {
   "name": ""
  }
 },
 "nbformat": 4,
 "nbformat_minor": 5
}
