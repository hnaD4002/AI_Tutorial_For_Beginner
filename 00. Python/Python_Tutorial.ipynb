{
 "cells": [
  {
   "cell_type": "markdown",
   "id": "05a97aae-f55f-46cc-8a84-69ac3298b4a1",
   "metadata": {},
   "source": [
    "# Python for beginner\n"
   ]
  },
  {
   "cell_type": "code",
   "execution_count": 28,
   "id": "51a35ce1",
   "metadata": {},
   "outputs": [
    {
     "name": "stdout",
     "output_type": "stream",
     "text": [
      "Hello World!\n"
     ]
    }
   ],
   "source": [
    "print(\"Hello World!\")"
   ]
  },
  {
   "cell_type": "markdown",
   "id": "24c090a7",
   "metadata": {},
   "source": [
    "## 1. Variables, Booleans and None\n",
    "\n",
    "### Variables\n",
    "- Variables simply point to values"
   ]
  },
  {
   "cell_type": "code",
   "execution_count": 29,
   "id": "5b0640c7",
   "metadata": {},
   "outputs": [
    {
     "name": "stdout",
     "output_type": "stream",
     "text": [
      "1\n",
      "2\n"
     ]
    }
   ],
   "source": [
    "a = 1\n",
    "b = 2\n",
    "print(a)\n",
    "print(b)"
   ]
  },
  {
   "cell_type": "markdown",
   "id": "3e8b2925",
   "metadata": {},
   "source": [
    "- We can also change the value of a variable after setting it.\n"
   ]
  },
  {
   "cell_type": "code",
   "execution_count": 30,
   "id": "e0bad050",
   "metadata": {},
   "outputs": [
    {
     "name": "stdout",
     "output_type": "stream",
     "text": [
      "2\n"
     ]
    }
   ],
   "source": [
    "a = b\n",
    "print(a)"
   ]
  },
  {
   "cell_type": "markdown",
   "id": "0b31af24",
   "metadata": {},
   "source": [
    "- Variable names are case-sensitive, like many other things in Python.\n",
    "\n"
   ]
  },
  {
   "cell_type": "code",
   "execution_count": 31,
   "id": "8fc1ab2d",
   "metadata": {},
   "outputs": [
    {
     "name": "stdout",
     "output_type": "stream",
     "text": [
      "0\n"
     ]
    }
   ],
   "source": [
    "v = 100\n",
    "V = 101\n",
    "if v == V: print(1)\n",
    "else: print(0)"
   ]
  },
  {
   "cell_type": "markdown",
   "id": "4bebc9c2",
   "metadata": {},
   "source": [
    "- Operators"
   ]
  },
  {
   "cell_type": "code",
   "execution_count": 32,
   "id": "2609ad1c",
   "metadata": {},
   "outputs": [
    {
     "name": "stdout",
     "output_type": "stream",
     "text": [
      "99\n",
      "104\n",
      "34.666666666666664\n",
      "312.0\n"
     ]
    }
   ],
   "source": [
    "a = 100\n",
    "a -= 1 # a = a - 1\n",
    "print(a)\n",
    "a += 5 # a = a + 5\n",
    "print(a)\n",
    "a /= 3 # a = a / 3\n",
    "print(a)\n",
    "a *= 9 # a = a * 9\n",
    "print(a)"
   ]
  },
  {
   "cell_type": "code",
   "execution_count": 33,
   "id": "2fff290c",
   "metadata": {},
   "outputs": [
    {
     "name": "stdout",
     "output_type": "stream",
     "text": [
      "Hello World!\n",
      "Hello World!Hello World!Hello World!\n"
     ]
    }
   ],
   "source": [
    "s = \"Hello\"\n",
    "s = s + \" World!\"\n",
    "print(s)\n",
    "s = s * 3\n",
    "print(s)"
   ]
  },
  {
   "cell_type": "markdown",
   "id": "416d4962",
   "metadata": {},
   "source": [
    "- #: comment in line\n",
    "- \"\"\"\"\"\": comment in lines"
   ]
  },
  {
   "cell_type": "code",
   "execution_count": 34,
   "id": "f816d97f",
   "metadata": {},
   "outputs": [
    {
     "data": {
      "text/plain": [
       "'ArithmeticError\\nhsdhdhh\\nasjjkas\\n'"
      ]
     },
     "execution_count": 34,
     "metadata": {},
     "output_type": "execute_result"
    }
   ],
   "source": [
    "# Hello \n",
    "\"\"\"ArithmeticError\n",
    "hsdhdhh\n",
    "asjjkas\n",
    "\"\"\""
   ]
  },
  {
   "cell_type": "code",
   "execution_count": 35,
   "id": "29570f61",
   "metadata": {},
   "outputs": [
    {
     "name": "stdout",
     "output_type": "stream",
     "text": [
      "Banana\n",
      "Orange\n",
      "Cherry\n"
     ]
    }
   ],
   "source": [
    "x, y, z = \"Banana\", \"Orange\", \"Cherry\"\n",
    "print(x, y, z, sep=\"\\n\")"
   ]
  },
  {
   "cell_type": "code",
   "execution_count": 36,
   "id": "dc064e96",
   "metadata": {},
   "outputs": [
    {
     "name": "stdout",
     "output_type": "stream",
     "text": [
      "100\n",
      "100\n",
      "100\n"
     ]
    }
   ],
   "source": [
    "x = y = z = 100\n",
    "print(x)\n",
    "print(y)\n",
    "print(z)"
   ]
  },
  {
   "cell_type": "markdown",
   "id": "9ea84d23",
   "metadata": {},
   "source": [
    "#### Unpack a Collection\n",
    "If you have a collection of values in a list, tuple etc. Python allows you to extract the values into variables. This is called unpacking."
   ]
  },
  {
   "cell_type": "code",
   "execution_count": 37,
   "id": "e6624bcb",
   "metadata": {},
   "outputs": [
    {
     "name": "stdout",
     "output_type": "stream",
     "text": [
      "apple\n",
      "banana\n",
      "cherry\n"
     ]
    }
   ],
   "source": [
    "fruits = [\"apple\", \"banana\", \"cherry\"]\n",
    "x, y, z = fruits\n",
    "print(x)\n",
    "print(y)\n",
    "print(z)"
   ]
  },
  {
   "cell_type": "markdown",
   "id": "970cd4b1",
   "metadata": {},
   "source": [
    "### Output Variables\n",
    "+ The python, print() function is often used to output variables"
   ]
  },
  {
   "cell_type": "code",
   "execution_count": 38,
   "id": "6c02577b",
   "metadata": {},
   "outputs": [
    {
     "name": "stdout",
     "output_type": "stream",
     "text": [
      "Python is easy\n"
     ]
    }
   ],
   "source": [
    "x = \"Python is easy\"\n",
    "print(x)"
   ]
  },
  {
   "cell_type": "markdown",
   "id": "cedfcf26",
   "metadata": {},
   "source": [
    "### Global Variable\n",
    "* Global variables can be used if a function, and use it inside the function\n",
    "* Not changing"
   ]
  },
  {
   "cell_type": "code",
   "execution_count": 39,
   "id": "effcb5cf",
   "metadata": {},
   "outputs": [
    {
     "name": "stdout",
     "output_type": "stream",
     "text": [
      "Python is fantastic\n"
     ]
    }
   ],
   "source": [
    "def myfunc():\n",
    "    global x\n",
    "    x = \"fantastic\"\n",
    "\n",
    "\n",
    "myfunc()\n",
    "\n",
    "print(\"Python is \" + x)"
   ]
  },
  {
   "cell_type": "markdown",
   "id": "07291116",
   "metadata": {},
   "source": [
    "### Data Types\n",
    "| Type\t\t\t|Name\t\t\t\t\t\t\t|\n",
    "|---------------|-------------------------------|\n",
    "| text type\t\t| str\t\t\t\t\t\t\t|\n",
    "| numeric types\t| int, float, complex\t\t\t|\n",
    "| sequence types| list, tuple, range\t\t\t|\n",
    "| mapping type\t| dictionary\t\t\t\t\t|\n",
    "| set types\t\t| set, frozenset\t\t\t\t|\n",
    "| boolean type\t| bool\t\t\t\t\t\t\t|\n",
    "| binary types\t| bytes, bytearray, memoryview\t|\n",
    "| none type\t\t| NoneType|\n",
    "- type(): check data type of variable"
   ]
  },
  {
   "cell_type": "markdown",
   "id": "89693b2f",
   "metadata": {},
   "source": [
    "### Python numbers\n",
    "- There are three numeric types in Python:\n",
    "\t+ int\n",
    "\t+ float\n",
    "\t+ complex"
   ]
  },
  {
   "cell_type": "code",
   "execution_count": 40,
   "id": "1af84293",
   "metadata": {},
   "outputs": [],
   "source": [
    "x = 1 # int\n",
    "y = 1.1 #float\n",
    "z = 12 + 1j # complex"
   ]
  },
  {
   "cell_type": "code",
   "execution_count": 41,
   "id": "a6113a35",
   "metadata": {},
   "outputs": [
    {
     "name": "stdout",
     "output_type": "stream",
     "text": [
      "<class 'int'>\n",
      "<class 'float'>\n",
      "<class 'complex'>\n"
     ]
    }
   ],
   "source": [
    "print(type(x))\n",
    "print(type(y))\n",
    "print(type(z))"
   ]
  },
  {
   "cell_type": "markdown",
   "id": "5ed03d11",
   "metadata": {},
   "source": [
    "#### Type convert\n",
    "- You can convert from one type to another with the int(), float(), and complex() methods:"
   ]
  },
  {
   "cell_type": "code",
   "execution_count": 42,
   "id": "4e87aea1",
   "metadata": {},
   "outputs": [
    {
     "name": "stdout",
     "output_type": "stream",
     "text": [
      "1.0\n",
      "2\n",
      "(1+0j)\n",
      "<class 'float'>\n",
      "<class 'int'>\n",
      "<class 'complex'>\n"
     ]
    }
   ],
   "source": [
    "x = 1  # int\n",
    "y = 2.8  # float\n",
    "z = 1j  # complex\n",
    "\n",
    "# convert from int to float:\n",
    "a = float(x)\n",
    "\n",
    "# convert from float to int:\n",
    "b = int(y)\n",
    "\n",
    "# convert from int to complex:\n",
    "c = complex(x)\n",
    "\n",
    "print(a)\n",
    "print(b)\n",
    "print(c)\n",
    "\n",
    "print(type(a))\n",
    "print(type(b))\n",
    "print(type(c))"
   ]
  },
  {
   "cell_type": "markdown",
   "id": "a7a22f53",
   "metadata": {},
   "source": [
    "### Random Number\n"
   ]
  },
  {
   "cell_type": "code",
   "execution_count": 43,
   "id": "bc84b8db",
   "metadata": {},
   "outputs": [
    {
     "name": "stdout",
     "output_type": "stream",
     "text": [
      "3\n"
     ]
    }
   ],
   "source": [
    "import random\n",
    "print(random.randrange(1, 10))"
   ]
  },
  {
   "cell_type": "markdown",
   "id": "a955c29a",
   "metadata": {},
   "source": [
    "### String Python"
   ]
  },
  {
   "cell_type": "code",
   "execution_count": 44,
   "id": "964d1442",
   "metadata": {},
   "outputs": [
    {
     "name": "stdout",
     "output_type": "stream",
     "text": [
      "Hello World\n"
     ]
    }
   ],
   "source": [
    "s = \"Hello\"\n",
    "t = 'World'\n",
    "print(s, t)"
   ]
  },
  {
   "cell_type": "markdown",
   "id": "a9dd1fb6",
   "metadata": {},
   "source": [
    "##### Strings are Array"
   ]
  },
  {
   "cell_type": "code",
   "execution_count": 45,
   "id": "f45a73dc",
   "metadata": {},
   "outputs": [
    {
     "name": "stdout",
     "output_type": "stream",
     "text": [
      "n\n"
     ]
    }
   ],
   "source": [
    "a = \"Strings in Python are Arrays\"\n",
    "print(a[9])"
   ]
  },
  {
   "cell_type": "code",
   "execution_count": 46,
   "id": "1057c570",
   "metadata": {},
   "outputs": [
    {
     "name": "stdout",
     "output_type": "stream",
     "text": [
      "S\n",
      "t\n",
      "r\n",
      "i\n",
      "n\n",
      "g\n",
      "s\n",
      " \n",
      "i\n",
      "n\n",
      " \n",
      "P\n",
      "y\n",
      "t\n",
      "h\n",
      "o\n",
      "n\n",
      " \n",
      "a\n",
      "r\n",
      "e\n",
      " \n",
      "A\n",
      "r\n",
      "r\n",
      "a\n",
      "y\n",
      "s\n"
     ]
    }
   ],
   "source": [
    "# Loop through a string\n",
    "for i in a:\n",
    "\tprint(i)"
   ]
  },
  {
   "cell_type": "code",
   "execution_count": 47,
   "id": "33d7c545",
   "metadata": {},
   "outputs": [
    {
     "name": "stdout",
     "output_type": "stream",
     "text": [
      "28\n",
      "True\n",
      "True\n"
     ]
    }
   ],
   "source": [
    "# string length\n",
    "print(len(a))\n",
    "# check string \n",
    "print(\"Python\" in a)\n",
    "print(\"Danh\" not in a)"
   ]
  },
  {
   "cell_type": "markdown",
   "id": "5e7b4da5",
   "metadata": {},
   "source": [
    "#### Slicing string\n"
   ]
  },
  {
   "cell_type": "code",
   "execution_count": 48,
   "id": "fffe444d",
   "metadata": {},
   "outputs": [
    {
     "name": "stdout",
     "output_type": "stream",
     "text": [
      "rings i\n"
     ]
    }
   ],
   "source": [
    "b = a[2:9]\n",
    "print(b)"
   ]
  },
  {
   "cell_type": "code",
   "execution_count": 49,
   "id": "5f1a1d78",
   "metadata": {},
   "outputs": [
    {
     "name": "stdout",
     "output_type": "stream",
     "text": [
      "HELLO\n",
      "hello\n",
      "danh   dh a. s\n",
      "Hella!\n",
      "['Viet', 'Nam', 'is', 'number', '1!']\n"
     ]
    }
   ],
   "source": [
    "# Modify string\n",
    "## upper(): return the strings in upper case\n",
    "a = \"Hello\"\n",
    "print(a.upper())\n",
    "## lower(): return the strings in lower case\n",
    "print(a.lower())\n",
    "## strip(): removes any whitespace from the beginning or the end\n",
    "b = \"   danh   dh a. s    \"\n",
    "print(b.strip())\n",
    "## replace(): replace a string with another string\n",
    "print(a.replace(\"o\", \"a!\"))\n",
    "## split(default = \" \"): return a list contains strings \n",
    "c = \"Viet Nam is number 1!\"\n",
    "print(c.split(\" \"))\n"
   ]
  },
  {
   "cell_type": "markdown",
   "id": "69076843",
   "metadata": {},
   "source": [
    "#### String concatenation"
   ]
  },
  {
   "cell_type": "code",
   "execution_count": 50,
   "id": "932f64c2",
   "metadata": {},
   "outputs": [
    {
     "name": "stdout",
     "output_type": "stream",
     "text": [
      "Viet Nam\n",
      "I want 3 pieces of item 567 for 49.95 dollars.\n",
      "I want 3 pieces of item 567 for 49.95 dollars.\n"
     ]
    }
   ],
   "source": [
    "a = \"Viet\"\n",
    "b = \"Nam\"\n",
    "c = a + \" \" + b\n",
    "print(c)\n",
    "\n",
    "### String Format\n",
    "quantity = 3\n",
    "itemno = 567\n",
    "price = 49.95\n",
    "myorder = \"I want {} pieces of item {} for {} dollars.\"\n",
    "print(myorder.format(quantity, itemno, price))\n",
    "\n",
    "myOrder = \"I want {1} pieces of item {2} for {0} dollars.\"\n",
    "print(myorder.format(quantity, itemno, price))"
   ]
  },
  {
   "cell_type": "markdown",
   "id": "0d9ce1b1",
   "metadata": {},
   "source": [
    "#### Escape Characters\n",
    "|Code\t|Result\t\t\t|\n",
    "|-|----|\n",
    "| \\\\'\t\t|Single Quote\t|\n",
    "| \\\\\\\t|Backslash\t|\n",
    "| \\n\t|New Line\t|\n",
    "| \\r\t\t|Carriage Return\t|\n",
    "| \\t\t|Tab\t|\n",
    "| \\b\t\t|Backspace\t|\n",
    "| \\f\t\t|Form Feed\t|\n",
    "| \\ooo\t\t|Octal value\t|\n",
    "| \\xhh\t\t|Hex value\t|\n",
    "\n",
    "\n",
    "\n",
    "\n"
   ]
  },
  {
   "cell_type": "markdown",
   "id": "06a18662",
   "metadata": {},
   "source": [
    "### Methods String\n",
    "https://www.w3schools.com/python/python_strings_methods.asp"
   ]
  },
  {
   "cell_type": "markdown",
   "id": "767fdd7b",
   "metadata": {},
   "source": [
    "### Python Boolean\n",
    "An expression is True or False\n"
   ]
  },
  {
   "cell_type": "code",
   "execution_count": 51,
   "id": "47c5bfd7",
   "metadata": {},
   "outputs": [
    {
     "name": "stdout",
     "output_type": "stream",
     "text": [
      "False\n",
      "True\n"
     ]
    }
   ],
   "source": [
    "print(1 > 2)\n",
    "print(2 == 2)"
   ]
  },
  {
   "cell_type": "markdown",
   "id": "141316d7",
   "metadata": {},
   "source": [
    "### Python Operators\n",
    "\n",
    "|Operator\t|Name|\tExample\t|\n",
    "|-|-|-|\n",
    "|==\t|Equal\t|x == y\t|\n",
    "|!=\t|Not equal|\tx != y\t|\n",
    "|>\t|Greater than|\tx > y\t|\n",
    "|<\t|Less than\t|x < y\t|\n",
    "|>=\t|Greater than or equal to|\tx >= y\t|\n",
    "|<=\t|Less than or equal to|\tx <= y|\n",
    "\n",
    "- Logical Operators\n",
    "\n",
    "|Operator\t|Description|\tExample|\n",
    "|-|-|-|\n",
    "|and |\tReturns True if both statements are true|\tx < 5 and  x < 10\t|\n",
    "|or\t|Returns True if one of the statements is true|\tx < 5 or x < 4\t|\n",
    "|not|\tReverse the result, returns False if the result is true|\tnot(x < 5 and x < 10)|\t\n",
    "\n",
    "- Membership Operators\n",
    "\n",
    "|Operator |\tDescription |\tExample|\n",
    "|-|-|-|\n",
    "|in |\tReturns True if a sequence with the specified value is present in the object |\tx in y\t|\n",
    "|not in |\tReturns True if a sequence with the specified value is not present in the object |\tx not in y |\n",
    "\n",
    "\n",
    "|Operator|\tDescription\t|\n",
    "|-|-|\n",
    "|()\t|Parentheses\t|\n",
    "|**|\tExponentiation\t|\n",
    "|+x  -x  ~x\t|Unary plus, unary minus, and bitwise NOT\t|\n",
    "|*  /  //  %|\tMultiplication, division, floor division, and modulus\t|\n",
    "|+  -\t|Addition and subtraction\t|\n",
    "|<<  >>\t|Bitwise left and right shifts\t|\n",
    "|&\t|Bitwise AND\t|\n",
    "|^\t|Bitwise XOR\t|\n",
    "||\tBitwise OR\t|\n",
    "==  !=  >  >=  <  <=  is  is not  in  not in \t|Comparisons, identity, and membership operators\t|\n",
    "|not\t|Logical NOT\t|\n",
    "|and\t|AND|\t\n",
    "|or\t|OR|"
   ]
  },
  {
   "cell_type": "markdown",
   "id": "4b5dbec0",
   "metadata": {},
   "source": [
    "## 2. List\n",
    "- List is a structure to store a sequence of elements (elements can be of different types)\n",
    "### List length\n",
    "- len() function return the number of items in the list"
   ]
  },
  {
   "cell_type": "code",
   "execution_count": 52,
   "id": "b3fc13cf",
   "metadata": {},
   "outputs": [
    {
     "name": "stdout",
     "output_type": "stream",
     "text": [
      "5\n",
      "2\n",
      "[2, 3, 5, 'h']\n",
      "[1, 2]\n",
      "[2, 3]\n",
      "[1, 2, 3, 5, 'h'] [1, 2, 3, 5, 'h'] [1, 2, 3, 5, 'h'] [1, 2, 3, 5, 'h'] [1, 2, 3, 5, 'h'] "
     ]
    }
   ],
   "source": [
    "l = [1, 2, 3, 5, \"h\"]\n",
    "print(len(l))\n",
    "# precifec index\n",
    "print(l[1])\n",
    "# sublist\n",
    "print(l[1:])\n",
    "print(l[:2])\n",
    "print(l[1:3])\n",
    "\n",
    "for i in l:\n",
    "\tprint(l, end = \" \")\n",
    "# change list items\n",
    "l[0] = 100\n",
    "l[2:4] = [12, 90]\n",
    "# insert(index, value) method\n",
    "l.insert(3, 10)\n",
    "# append(): add 1 value in the end of list\n",
    "l.append(\"HIHI\")\n",
    "# extend(object): add 1 object in the end of list\n",
    "l.extend([0, 0, 0])\n",
    "# remove(value):\n",
    "l.remove(100)\n",
    "# pop(index)\n",
    "l.pop(2)\n",
    "# del method is function of Python\n",
    "del l[5]\n",
    "# clear()\n",
    "l.clear()"
   ]
  },
  {
   "cell_type": "markdown",
   "id": "da4a2081",
   "metadata": {},
   "source": [
    "### Loop Lists"
   ]
  },
  {
   "cell_type": "code",
   "execution_count": 55,
   "metadata": {},
   "outputs": [
    {
     "name": "stdout",
     "output_type": "stream",
     "text": [
      "apple banana cherry \n",
      "apple banana cherry \n",
      "apple banana cherry \n",
      "apple\n",
      "banana\n",
      "cherry\n"
     ]
    },
    {
     "data": {
      "text/plain": [
       "[None, None, None]"
      ]
     },
     "execution_count": 55,
     "metadata": {},
     "output_type": "execute_result"
    }
   ],
   "source": [
    "# 1. Loop through a list\n",
    "li = [\"apple\", \"banana\", \"cherry\"]\n",
    "for i in li:\n",
    "\tprint(i, end = \" \")\n",
    "print()\n",
    "# 2. Loop through the index numbers\n",
    "for i in range(len(li)):\n",
    "\tprint(li[i], end = \" \")\n",
    "# 3. Using a while loop\n",
    "print()\n",
    "i = 0\n",
    "while i < len(li):\n",
    "\tprint(li[i], end=\" \")\n",
    "\ti += 1\n",
    "# 4. Looping using list comprehension\n",
    "print()\n",
    "[print(x) for x in li]\n"
   ]
  },
  {
   "cell_type": "markdown",
   "id": "2c90e662",
   "metadata": {},
   "source": [
    "### List Comprehension\n",
    "- The Syntax:\n",
    "\t+ new_list = [expression for item in iterable if condition == True]\n"
   ]
  },
  {
   "cell_type": "code",
   "execution_count": null,
   "id": "6271f5d1",
   "metadata": {},
   "outputs": [],
   "source": [
    "a = [int(x) for x in input().split() if int(x) % 2 == 0]\n",
    "print(a)"
   ]
  },
  {
   "cell_type": "markdown",
   "id": "38e59c6f",
   "metadata": {},
   "source": [
    "#### List Methods: https://www.w3schools.com/python/python_lists_methods.asp"
   ]
  },
  {
   "cell_type": "markdown",
   "id": "46347e2f",
   "metadata": {},
   "source": [
    "## 3. Tuple, Set, Frozenset"
   ]
  },
  {
   "cell_type": "code",
   "execution_count": null,
   "id": "130ccfcf",
   "metadata": {},
   "outputs": [],
   "source": [
    "a = set(1, 2, 3) # set\n",
    "b = (1,23,5 ) # tuple"
   ]
  },
  {
   "cell_type": "markdown",
   "id": "d175d77c",
   "metadata": {},
   "source": [
    "## 4. Dictionary\n",
    "- Dictionaries are used to store data values in key:value pairs.\n",
    "- Dictionary Methods: https://www.w3schools.com/python/python_dictionaries_methods.asp"
   ]
  },
  {
   "cell_type": "markdown",
   "id": "c6b4bd5d",
   "metadata": {},
   "source": [
    "## 5. If...Else"
   ]
  },
  {
   "cell_type": "code",
   "execution_count": null,
   "id": "8568b276",
   "metadata": {},
   "outputs": [],
   "source": [
    "if 1 < 2:\n",
    "\tprint(\"Hello!\")\n",
    "else:\n",
    "\tprint(\"Hi\")\n",
    "if 1 + 1 > 2:\n",
    "\tprint(\"A\")\n",
    "elif 1 + 1 == 2:\n",
    "\tprint(\"B\")\n",
    "else:print(\"C\")\n"
   ]
  },
  {
   "cell_type": "markdown",
   "id": "4c5285fe",
   "metadata": {},
   "source": [
    "## 6. While Loops\n",
    "- Python has two primitive lopp commands:\n",
    "\t+ for loops\n",
    "\t+ while loops\n"
   ]
  },
  {
   "cell_type": "code",
   "execution_count": null,
   "id": "be0b8665",
   "metadata": {},
   "outputs": [],
   "source": [
    "# While loops\n",
    "i = 1\n",
    "while i < 6:\n",
    "\tprint(i)\n",
    "\ti += 1\n",
    "\tif i == 4:break\n",
    "\tif i == 2:continue\n",
    "\n",
    "# For loops\n",
    "for i in range(10):\n",
    "\tprint(i)\n",
    "\tif i == 4:\n",
    "\t\tcontinue\n",
    "\tif i == 9:\n",
    "\t\tbreak\n",
    "\t\n"
   ]
  },
  {
   "cell_type": "markdown",
   "id": "90d23ab8",
   "metadata": {},
   "source": [
    "## 7. Python Functions"
   ]
  },
  {
   "cell_type": "code",
   "execution_count": null,
   "id": "0dc81c2e",
   "metadata": {},
   "outputs": [],
   "source": [
    "# Creating a Function\n",
    "def my_function():\n",
    "\tprint(\"Hello from a function\")\n",
    "\n",
    "my_function()\n",
    "\n",
    "# Arguments\n",
    "def my_func1(name):\n",
    "\tprint(\"Hello\", name)\n",
    "\n",
    "my_func1(\"Danh\") # Call function\n",
    "\n",
    "# Arbitrary arguments, *args\n",
    "def my_func2(*nums):\n",
    "\tprint(sum(nums))\n",
    "\n",
    "my_func2(1, 2,3 , 4, 5)\n",
    "\n",
    "# Arbitrary Keyword Arguments, **kwargs\n",
    "def my_func3(**key):\n",
    "\tprint(key[1], key[0])\n",
    "\n",
    "my_func3(1, 2, 3, 4, 5, 6)\n"
   ]
  },
  {
   "cell_type": "markdown",
   "id": "f5b8ba92",
   "metadata": {},
   "source": [
    "### Recursion"
   ]
  },
  {
   "cell_type": "markdown",
   "id": "3d690c0c",
   "metadata": {},
   "source": [
    "## 8. Python Lambda\n",
    "#### Syntax:\n",
    "\t- lambda arguments : expression\n",
    "\t"
   ]
  },
  {
   "cell_type": "markdown",
   "id": "7722ee3e",
   "metadata": {},
   "source": [
    "## 9. OOP(Object Oriented Programming)"
   ]
  },
  {
   "cell_type": "code",
   "execution_count": null,
   "id": "00d769e4",
   "metadata": {},
   "outputs": [],
   "source": [
    "class Person:\n",
    "\tdef __init__(self, name, age) -> None:\n",
    "\t\tself.name = name\n",
    "\t\tself.age = age\n",
    "\tdef __str__(self) -> str:\n",
    "\t\treturn f\"Name: {self.name}\\nAge: {self.age}\"\n",
    "\t\n"
   ]
  },
  {
   "cell_type": "markdown",
   "id": "38770c8f",
   "metadata": {},
   "source": [
    "### Inheritance"
   ]
  },
  {
   "cell_type": "code",
   "execution_count": 64,
   "id": "31acade2",
   "metadata": {},
   "outputs": [
    {
     "name": "stdout",
     "output_type": "stream",
     "text": [
      "Name: Danh Age: 20 Class: KHMT01\n"
     ]
    }
   ],
   "source": [
    "class Person:\n",
    "\tdef __init__(self, name, age) -> None:\n",
    "\t\tself.name = name\n",
    "\t\tself.age = age\n",
    "\tdef __str__(self) -> str:\n",
    "\t\treturn f\"Name: {self.name} Age: {self.age}\"\n",
    "class Student(Person):\n",
    "\tdef __init__(self, name, age, clas) -> None:\n",
    "\t\tsuper().__init__(name, age)\n",
    "\t\tself.clas = clas\n",
    "\tdef __str__(self) -> str:\n",
    "\t\treturn super().__str__() + \" Class: \" + str(self.clas)\n",
    "p1 = Student(\"Danh\", 20, \"KHMT01\")\n",
    "print(str(p1))"
   ]
  },
  {
   "cell_type": "markdown",
   "id": "16dd38b7",
   "metadata": {},
   "source": [
    "### Iterators\n",
    "- An iterator is an object that contains a countable number of values.\n",
    "\n",
    "- An iterator is an object that can be iterated upon, meaning that you can traverse through all the values.\n",
    "\n",
    "- Technically, in Python, an iterator is an object which implements the iterator protocol, which consist of the methods __iter__() and __next__().\n",
    "### a. Iterator vs Iterable"
   ]
  },
  {
   "cell_type": "code",
   "execution_count": 59,
   "id": "b143634b",
   "metadata": {},
   "outputs": [
    {
     "name": "stdout",
     "output_type": "stream",
     "text": [
      "<tuple_iterator object at 0x106f20c10>\n",
      "apple\n",
      "banana\n",
      "cherry\n"
     ]
    }
   ],
   "source": [
    "myTuple = (\"apple\", \"banana\", \"cherry\")\n",
    "myit = iter(myTuple)\n",
    "print(myit)\n",
    "print(next(myit))\n",
    "print(next(myit))\n",
    "print(next(myit))"
   ]
  },
  {
   "cell_type": "markdown",
   "id": "bfe1557a",
   "metadata": {},
   "source": [
    "### b. Create an Iterator"
   ]
  },
  {
   "cell_type": "code",
   "execution_count": 60,
   "id": "acd39925",
   "metadata": {},
   "outputs": [
    {
     "name": "stdout",
     "output_type": "stream",
     "text": [
      "1\n",
      "2\n",
      "3\n",
      "4\n"
     ]
    }
   ],
   "source": [
    "class MyNumbers:\n",
    "\tdef __iter__(self):\n",
    "\t\tself.a = 1\n",
    "\t\treturn self\n",
    "\tdef __next__(self):\n",
    "\t\tif self.a < 20:\n",
    "\t\t\tx = self.a\n",
    "\t\t\tself.a += 1\n",
    "\t\t\treturn x\n",
    "\t\telse:\n",
    "\t\t\traise StopIteration\n",
    "\t\n",
    "myclass = MyNumbers()\n",
    "myiter = iter(myclass)\n",
    "print(next(myiter))\n",
    "print(next(myiter))\n",
    "print(next(myiter))\n",
    "print(next(myiter))"
   ]
  },
  {
   "cell_type": "markdown",
   "id": "e7fbcf72",
   "metadata": {},
   "source": [
    "### Polymorphism"
   ]
  },
  {
   "cell_type": "code",
   "execution_count": null,
   "id": "7912f955",
   "metadata": {},
   "outputs": [],
   "source": [
    "class Vehicle:\n",
    "\tdef __init__(self, brand, model) -> None:\n",
    "\t\tself.brand = brand\n",
    "\t\tself.model = model\n",
    "\tdef move(self):\n",
    "\t\tprint(\"Drive!\")\n",
    "class Car:\n",
    "\tpass\n",
    "class Boat(Vehicle):\n",
    "\tdef move(self):\n",
    "\t\tprint(\"Boat Drive!\")\n"
   ]
  },
  {
   "cell_type": "code",
   "execution_count": null,
   "id": "30f29396",
   "metadata": {},
   "outputs": [],
   "source": [
    "/Users/danh/Desktop/AI/00. Python/Python_Tutorial.ipynb"
   ]
  }
 ],
 "metadata": {
  "kernelspec": {
   "display_name": "Python 3",
   "language": "python",
   "name": "python3"
  },
  "language_info": {
   "codemirror_mode": {
    "name": "ipython",
    "version": 3
   },
   "file_extension": ".py",
   "mimetype": "text/x-python",
   "name": "python",
   "nbconvert_exporter": "python",
   "pygments_lexer": "ipython3",
   "version": "3.12.0"
  }
 },
 "nbformat": 4,
 "nbformat_minor": 5
}
